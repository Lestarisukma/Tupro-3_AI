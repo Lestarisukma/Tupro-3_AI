{
  "nbformat": 4,
  "nbformat_minor": 0,
  "metadata": {
    "colab": {
      "name": "IF4202_1301184345_TUPRO 3.ipynb",
      "provenance": [],
      "collapsed_sections": []
    },
    "kernelspec": {
      "name": "python3",
      "display_name": "Python 3"
    }
  },
  "cells": [
    {
      "cell_type": "code",
      "metadata": {
        "id": "AVTjFY5TMfW0"
      },
      "source": [
        "import pandas as pd\r\n",
        "import numpy as np\r\n",
        "from math import sqrt"
      ],
      "execution_count": 255,
      "outputs": []
    },
    {
      "cell_type": "code",
      "metadata": {
        "colab": {
          "base_uri": "https://localhost:8080/"
        },
        "id": "mGuODM7kMk2R",
        "outputId": "6217e70c-2583-4167-d9ae-42799f970fe5"
      },
      "source": [
        "datadiabet = pd.read_csv('Diabetes.csv')\r\n",
        "print(datadiabet)"
      ],
      "execution_count": 256,
      "outputs": [
        {
          "output_type": "stream",
          "text": [
            "     Pregnancies  Glucose  ...  Age  Outcome\n",
            "0              6      148  ...   50        1\n",
            "1              1       85  ...   31        0\n",
            "2              8      183  ...   32        1\n",
            "3              1       89  ...   21        0\n",
            "4              0      137  ...   33        1\n",
            "..           ...      ...  ...  ...      ...\n",
            "763           10      101  ...   63        0\n",
            "764            2      122  ...   27        0\n",
            "765            5      121  ...   30        0\n",
            "766            1      126  ...   47        1\n",
            "767            1       93  ...   23        0\n",
            "\n",
            "[768 rows x 9 columns]\n"
          ],
          "name": "stdout"
        }
      ]
    },
    {
      "cell_type": "code",
      "metadata": {
        "id": "jy4KuRfEMmxA"
      },
      "source": [
        "ganti = ['Glucose','BloodPressure','SkinThickness','Insulin','BMI']\r\n",
        "for column in ganti:\r\n",
        "  datadiabet[column] = datadiabet[column].replace(0,np.NaN)\r\n",
        "  average = int(datadiabet[column].mean(skipna=True))\r\n",
        "  datadiabet[column] = datadiabet[column].replace(np.NaN,average)"
      ],
      "execution_count": 257,
      "outputs": []
    },
    {
      "cell_type": "markdown",
      "metadata": {
        "id": "0ooVh46c9MCk"
      },
      "source": [
        "Normalisasi "
      ]
    },
    {
      "cell_type": "code",
      "metadata": {
        "id": "5Oxr5rjp7_Pj"
      },
      "source": [
        "sukma = ['Pregnancies','Glucose','BloodPressure','SkinThickness','Insulin','BMI','DiabetesPedigreeFunction','Age','Outcome']\r\n",
        "for column in sukma:\r\n",
        "  datadiabet[column] = (datadiabet[column] - datadiabet[column].mean()) / datadiabet[column].std()"
      ],
      "execution_count": 258,
      "outputs": []
    },
    {
      "cell_type": "code",
      "metadata": {
        "colab": {
          "base_uri": "https://localhost:8080/"
        },
        "id": "p1yyaxoxSpzg",
        "outputId": "71f7abaa-0601-452b-9e49-dd550caa47ff"
      },
      "source": [
        "print(datadiabet)"
      ],
      "execution_count": 259,
      "outputs": [
        {
          "output_type": "stream",
          "text": [
            "     Pregnancies   Glucose  ...       Age   Outcome\n",
            "0       0.639530  0.864690  ...  1.425067  1.365006\n",
            "1      -0.844335 -1.205227  ... -0.190548 -0.731643\n",
            "2       1.233077  2.014644  ... -0.105515  1.365006\n",
            "3      -0.844335 -1.073804  ... -1.040871 -0.731643\n",
            "4      -1.141108  0.503276  ... -0.020483  1.365006\n",
            "..           ...       ...  ...       ...       ...\n",
            "763     1.826623 -0.679534  ...  2.530487 -0.731643\n",
            "764    -0.547562  0.010439  ... -0.530677 -0.731643\n",
            "765     0.342757 -0.022417  ... -0.275580 -0.731643\n",
            "766    -0.844335  0.141862  ...  1.169970  1.365006\n",
            "767    -0.844335 -0.942380  ... -0.870806 -0.731643\n",
            "\n",
            "[768 rows x 9 columns]\n"
          ],
          "name": "stdout"
        }
      ]
    },
    {
      "cell_type": "code",
      "metadata": {
        "id": "IQQGHUDBMs_j"
      },
      "source": [
        "testing = []\r\n",
        "trainset = []\r\n",
        "\r\n",
        "#dataset ke-1 \r\n",
        "datatrain = datadiabet[0:613].values.tolist()\r\n",
        "datatest = datadiabet[613:767].values.tolist()\r\n",
        "testing.append(datatest)\r\n",
        "trainset.append(datatrain)\r\n",
        "\r\n",
        "#dataset ke-2\r\n",
        "batasdata1 = datadiabet[0:460]\r\n",
        "batasdata2 = datadiabet[614:767]\r\n",
        "kumpulanbatas = pd.concat([batasdata1,batasdata2])\r\n",
        "datatrain = kumpulanbatas.values.tolist()\r\n",
        "datatest = datadiabet[460:614].values.tolist()\r\n",
        "testing.append(datatest)\r\n",
        "trainset.append(datatrain)\r\n",
        "\r\n",
        "#dataset ke-3 \r\n",
        "batasdata1 = datadiabet[0:306]\r\n",
        "batasdata2 = datadiabet[461:767]\r\n",
        "kumpulanbatas = pd.concat([batasdata1,batasdata2])\r\n",
        "datatrain = kumpulanbatas.values.tolist()\r\n",
        "datatest = datadiabet[306:461].values.tolist()\r\n",
        "testing.append(datatest)\r\n",
        "trainset.append(datatrain)\r\n",
        "\r\n",
        "#dataset ke-4 \r\n",
        "batasdata1 = datadiabet[0:153]\r\n",
        "batasdata2 = datadiabet[307:767]\r\n",
        "kumpulanbatas = pd.concat([batasdata1,batasdata2])\r\n",
        "datatrain = kumpulanbatas.values.tolist()\r\n",
        "datatest = datadiabet[153:307].values.tolist()\r\n",
        "testing.append(datatest)\r\n",
        "trainset.append(datatrain)\r\n",
        "\r\n",
        "#dataset ke-5 \r\n",
        "datatrain = datadiabet[154:767].values.tolist()\r\n",
        "datatest = datadiabet[0:153].values.tolist()\r\n",
        "testing.append(datatest)\r\n",
        "trainset.append(datatrain)\r\n",
        "\r\n"
      ],
      "execution_count": 260,
      "outputs": []
    },
    {
      "cell_type": "code",
      "metadata": {
        "id": "2Zy_21LcMuI8"
      },
      "source": [
        "def rumusEuclidean(ditest, training):\r\n",
        "  dist = 0.0\r\n",
        "  for i in range(len(training) - 1):\r\n",
        "    dist += (training[i] - ditest[i])**2\r\n",
        "  hasil = sqrt(dist)\r\n",
        "  return hasil"
      ],
      "execution_count": 261,
      "outputs": []
    },
    {
      "cell_type": "code",
      "metadata": {
        "id": "P5WCrrK_M7pT"
      },
      "source": [
        "def TempEuclidean(ditest,training, k):\r\n",
        "  simpan = []\r\n",
        "  for i in ditest:\r\n",
        "    x = []\r\n",
        "    test = []\r\n",
        "    for j in training:\r\n",
        "      result = rumusEuclidean(j, i)\r\n",
        "      x.append((j, result))\r\n",
        "    x.sort(key = lambda a:a[1])\r\n",
        "\r\n",
        "    for p in range(k):\r\n",
        "      test.append(x[p][0])\r\n",
        "    simpan.append(neighbour(test))\r\n",
        "  return simpan\r\n"
      ],
      "execution_count": 262,
      "outputs": []
    },
    {
      "cell_type": "code",
      "metadata": {
        "id": "i5b0W9hkXS1G"
      },
      "source": [
        "def klasifikasi(training,ditest,k):\r\n",
        "  ini = []\r\n",
        "  for i in range(len(training)):\r\n",
        "    test2 = TempEuclidean(training[i],ditest[i],k)\r\n",
        "    a = outcoming(ditest[i])\r\n",
        "    b = keluaran(a,test2)\r\n",
        "    ini.append(b)\r\n",
        "  return ini"
      ],
      "execution_count": 263,
      "outputs": []
    },
    {
      "cell_type": "code",
      "metadata": {
        "id": "Vx3NEMPbbKub"
      },
      "source": [
        "def keluaran(best,predict):\r\n",
        "  true = 0\r\n",
        "  for i in range(len(best)):\r\n",
        "    if (best[i]==predict[i]):\r\n",
        "      true += 1\r\n",
        "  banyak = (true/len(best))*100\r\n",
        "  return banyak \r\n"
      ],
      "execution_count": 264,
      "outputs": []
    },
    {
      "cell_type": "code",
      "metadata": {
        "id": "0FmsSRU7bdeT"
      },
      "source": [
        "def neighbour(p):\r\n",
        "  test2 = ([x[-1] for x in p ])\r\n",
        "  return max(set(test2), key=test2.count)"
      ],
      "execution_count": 265,
      "outputs": []
    },
    {
      "cell_type": "code",
      "metadata": {
        "id": "9dp2eNJ1gGVO"
      },
      "source": [
        "def outcoming(bismillah):\r\n",
        "  test2 = ([x[-1] for x in bismillah])\r\n",
        "  return test2"
      ],
      "execution_count": 266,
      "outputs": []
    },
    {
      "cell_type": "markdown",
      "metadata": {
        "id": "e73PH3DWhW3t"
      },
      "source": [
        "Main Program"
      ]
    },
    {
      "cell_type": "code",
      "metadata": {
        "id": "5rRV-56VgWUZ",
        "colab": {
          "base_uri": "https://localhost:8080/"
        },
        "outputId": "e7b83592-9d22-4cb9-f2f8-ccef62756ce9"
      },
      "source": [
        "k = 97\r\n",
        "x = klasifikasi(trainset,testing,k)\r\n",
        "print('Nilai k terbaik :',k)\r\n",
        "print('Hasil setiap K-Fold : ')\r\n",
        "for i in range(len(x)):\r\n",
        "    s = i+1\r\n",
        "    print(s,x[i])\r\n",
        "print('Rata-rata Persentase  :',sum(x)/len(x))"
      ],
      "execution_count": 267,
      "outputs": [
        {
          "output_type": "stream",
          "text": [
            "Nilai k terbaik : 97\n",
            "Hasil setiap K-Fold : \n",
            "1 64.28571428571429\n",
            "2 75.32467532467533\n",
            "3 65.80645161290323\n",
            "4 59.74025974025974\n",
            "5 64.70588235294117\n",
            "Rata-rata Persentase  : 65.97259666329875\n"
          ],
          "name": "stdout"
        }
      ]
    }
  ]
}